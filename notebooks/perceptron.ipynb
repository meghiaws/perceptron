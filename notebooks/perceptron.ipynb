{
 "cells": [
  {
   "cell_type": "markdown",
   "metadata": {},
   "source": [
    "### 1. Initializing Project and Reading Data From CSV Files \n",
    "In order to implement perceptron network, we need some libraries and packages:\n",
    "\n",
    "- **numpy**: we use this library to calculate complex matrix operation\n",
    "- **matplotlib**: this is a plotting library, here we use it in plotting **classification graph** and **test case accuracy graph** \n",
    "- **network**: this is a project that contains all source code and implemented neural networks.\n",
    "\n",
    "**The source code of this particular project implemented in the src/network/perceptron.py**\n",
    "\n",
    "We are using a CSV dataset for this network: \\\n",
    "This dataset includes **2 inputs**, **bias** and **target** value. **(perceptron.csv)** \\\n",
    "Second on is for testing if our training process was successful or not. **(test_dataset.csv)**. \\\n",
    "All datasets exists in the **dataset** folder with CSV format.\n",
    "\n",
    "**Here we are using binary input and bipolar target.**"
   ]
  },
  {
   "cell_type": "code",
   "execution_count": 1,
   "metadata": {},
   "outputs": [],
   "source": [
    "import numpy as np\n",
    "import matplotlib.pyplot as plt\n",
    "from network import PerceptronNetwork\n",
    "\n",
    "training_dataset = np.genfromtxt(\"../dataset/perceptron.csv\", delimiter=',', skip_header=1)"
   ]
  },
  {
   "cell_type": "markdown",
   "metadata": {},
   "source": [
    "### 2. Train The Networks\n",
    "Now we train our perceptron network using train() function of PerceptronNetwork class implemented in **perceptron.py** in **src/projects**. \\\n",
    "Here we are using learning_rate=0.2 and treshold(θ)=0.2, which can be easily changed.\n",
    "\n",
    "Also we pass the initial weights and bias to network: \n",
    "\n",
    "network1:  <bias, w1, w2> = < 0.2, 5.1, 2.3> \\\n",
    "network2:  <bias, w1, w2> = < 1.0, 1.0, 1.0>\n",
    "\n",
    "Note that using `weights_changed()` method, we simply check if the network converged to final weights or not. "
   ]
  },
  {
   "cell_type": "code",
   "execution_count": 2,
   "metadata": {},
   "outputs": [
    {
     "data": {
      "text/plain": [
       "'The number of epochs in which the algorithm converged to the final weights: 154'"
      ]
     },
     "execution_count": 2,
     "metadata": {},
     "output_type": "execute_result"
    }
   ],
   "source": [
    "network1 = PerceptronNetwork(input_count=2, learning_rate=0.5, threshold=0.2, bias=0.2, weights=[5.1, 2.3])\n",
    "\n",
    "epoch1 = 1\n",
    "while epoch1 != 500:\n",
    "    old_bias = network1.bias\n",
    "    old_weights = network1.w.copy()\n",
    "\n",
    "    for vector in training_dataset:\n",
    "        network1.train(x=vector[:2], bias=0.2, target=vector[2])\n",
    "\n",
    "    if not network1.weights_changed(old_weights, old_bias):\n",
    "        break\n",
    "    \n",
    "    epoch1 += 1 \n",
    "    \n",
    "f\"The number of epochs in which the algorithm converged to the final weights: {epoch1}\""
   ]
  },
  {
   "cell_type": "code",
   "execution_count": 3,
   "metadata": {},
   "outputs": [
    {
     "data": {
      "text/plain": [
       "'The number of epochs in which the algorithm converged to the final weights: 58'"
      ]
     },
     "execution_count": 3,
     "metadata": {},
     "output_type": "execute_result"
    }
   ],
   "source": [
    "network2 = PerceptronNetwork(input_count=2, learning_rate=0.5, threshold=0.2, bias=1.0, weights=[1.0, 1.0])\n",
    "\n",
    "epoch2 = 1\n",
    "while epoch2 != 500:\n",
    "    old_bias = network2.bias\n",
    "    old_weights = network2.w.copy()\n",
    "    \n",
    "    for vector in training_dataset:\n",
    "        network2.train(x=vector[:2], bias=1.0, target=vector[2])\n",
    "\n",
    "    if not network2.weights_changed(old_weights, old_bias):\n",
    "        break\n",
    "    \n",
    "    epoch2 += 1 \n",
    "    \n",
    "f\"The number of epochs in which the algorithm converged to the final weights: {epoch2}\""
   ]
  },
  {
   "cell_type": "markdown",
   "metadata": {},
   "source": [
    "### 3. Printing final weights and bias"
   ]
  },
  {
   "cell_type": "code",
   "execution_count": 4,
   "metadata": {},
   "outputs": [
    {
     "data": {
      "text/plain": [
       "'Network1 weights: [1.5999999999999996, 3.750000000000002] and bias: -8.599999999999985'"
      ]
     },
     "execution_count": 4,
     "metadata": {},
     "output_type": "execute_result"
    }
   ],
   "source": [
    "f\"Network1 weights: {network1.w} and bias: {network1.bias}\""
   ]
  },
  {
   "cell_type": "code",
   "execution_count": 5,
   "metadata": {},
   "outputs": [
    {
     "data": {
      "text/plain": [
       "'Network2 weights: [2.5, 5.900000000000001] and bias: -13.5'"
      ]
     },
     "execution_count": 5,
     "metadata": {},
     "output_type": "execute_result"
    }
   ],
   "source": [
    "f\"Network2 weights: {network2.w} and bias: {network2.bias}\""
   ]
  },
  {
   "cell_type": "markdown",
   "metadata": {},
   "source": [
    "### 3. (a) Plotting Decision Regions - Network1\n",
    "In this part we have correct weights for our network \\\n",
    "All we need is line that separate decision regions. \\\n",
    "This line is x2 = b + w1x1 / -w2x2 for 2 inputs."
   ]
  },
  {
   "cell_type": "code",
   "execution_count": 6,
   "metadata": {},
   "outputs": [
    {
     "data": {
      "image/png": "[encoded data removed]",
      "text/plain": [
       "<Figure size 432x288 with 1 Axes>"
      ]
     },
     "metadata": {
      "needs_background": "light"
     },
     "output_type": "display_data"
    }
   ],
   "source": [
    "x1 = np.array([-1, 8]) # a line from x=-1 to x=8\n",
    "x2 = (network1.bias + network1.w[0] * x1) / (- network1.w[1]) # x2 = b + w1x1 / -w2x2\n",
    "\n",
    "plt.plot(x1, x2)\n",
    "for vector in training_dataset:\n",
    "    # if Target is 1 it means point is in the positive area (green points) otherwise its in the negative area (red points)\n",
    "    if vector[2] == 1:  \n",
    "        plt.scatter(vector[0], vector[1], color='green')\n",
    "    else:\n",
    "        plt.scatter(vector[0], vector[1], color='red')\n",
    "\n",
    "plt.grid()\n",
    "plt.xlim(-1, 8)\n",
    "plt.ylim(-0.5, 2.5)\n",
    "plt.show()"
   ]
  },
  {
   "cell_type": "markdown",
   "metadata": {},
   "source": [
    "### 3. (b) Plotting Decision Regions - Network2"
   ]
  },
  {
   "cell_type": "code",
   "execution_count": 7,
   "metadata": {},
   "outputs": [
    {
     "data": {
      "image/png": "[encoded data removed]",
      "text/plain": [
       "<Figure size 432x288 with 1 Axes>"
      ]
     },
     "metadata": {
      "needs_background": "light"
     },
     "output_type": "display_data"
    }
   ],
   "source": [
    "x1 = np.array([-1, 8]) # a line from x=-1 to x=8\n",
    "x2 = (network2.bias + network2.w[0] * x1) / (- network2.w[1]) # x2 = b + w1x1 / -w2x2\n",
    "\n",
    "plt.plot(x1, x2)\n",
    "for vector in training_dataset:\n",
    "    # if Target is 1 it means point is in the positive area (green points) otherwise its in the negative area (red points)\n",
    "    if vector[2] == 1:  \n",
    "        plt.scatter(vector[0], vector[1], color='green')\n",
    "    else:\n",
    "        plt.scatter(vector[0], vector[1], color='red')\n",
    "\n",
    "plt.grid()\n",
    "\n",
    "plt.xlim(-1, 8)\n",
    "plt.ylim(-0.5, 2.5)\n",
    "plt.show()"
   ]
  }
 ],
 "metadata": {
  "kernelspec": {
   "display_name": "Python 3.10.4 ('.venv': venv)",
   "language": "python",
   "name": "python3"
  },
  "language_info": {
   "codemirror_mode": {
    "name": "ipython",
    "version": 3
   },
   "file_extension": ".py",
   "mimetype": "text/x-python",
   "name": "python",
   "nbconvert_exporter": "python",
   "pygments_lexer": "ipython3",
   "version": "3.10.4"
  },
  "orig_nbformat": 4,
  "vscode": {
   "interpreter": {
    "hash": "ec9439929e5ab2522272b66998376b7c087b5f674b88bcb9550595d62da34aec"
   }
  }
 },
 "nbformat": 4,
 "nbformat_minor": 2
}
